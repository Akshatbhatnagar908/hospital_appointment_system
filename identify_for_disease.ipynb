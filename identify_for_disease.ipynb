{
 "cells": [
  {
   "cell_type": "code",
   "execution_count": 4,
   "id": "957f94af-48c9-47bc-bbe4-a0016871f310",
   "metadata": {},
   "outputs": [
    {
     "name": "stdout",
     "output_type": "stream",
     "text": [
      "Predicted Disease: Migraine\n"
     ]
    }
   ],
   "source": [
    "import pandas as pd\n",
    "from sklearn.model_selection import train_test_split\n",
    "from sklearn.tree import DecisionTreeClassifier\n",
    "from sklearn.preprocessing import LabelEncoder\n",
    "\n",
    "def load_data(file_path):\n",
    "    df = pd.read_csv(file_path)\n",
    "    return df\n",
    "\n",
    "def preprocess_data(df):\n",
    "    label_encoder = LabelEncoder()\n",
    "    \n",
    "    # Convert 'Yes'/'No' to 1/0 for all symptom columns\n",
    "    for column in df.columns:\n",
    "        if df[column].dtype == 'object' and column != 'Disease':  # Avoid encoding 'Disease' here\n",
    "            df[column] = df[column].map({'Yes': 1, 'No': 0})\n",
    "    \n",
    "    df['Disease'] = label_encoder.fit_transform(df['Disease'])\n",
    "    \n",
    "    X = df.drop(columns=['Disease'])\n",
    "    y = df['Disease']\n",
    "    return X, y, label_encoder\n",
    "\n",
    "def train_model(X, y):\n",
    "    X_train, X_test, y_train, y_test = train_test_split(X, y, test_size=0.2, random_state=42)\n",
    "    model = DecisionTreeClassifier()\n",
    "    model.fit(X_train, y_train)\n",
    "    return model\n",
    "\n",
    "def predict_disease(model, label_encoder, symptoms):\n",
    "    input_data = pd.DataFrame([symptoms], columns=model.feature_names_in_)\n",
    "    prediction = model.predict(input_data)\n",
    "    return label_encoder.inverse_transform(prediction)[0]\n",
    "\n",
    "if __name__ == \"__main__\":\n",
    "    file_path = \"data.csv\"  # Update with actual path\n",
    "    df = load_data(file_path)\n",
    "    X, y, label_encoder = preprocess_data(df)\n",
    "    model = train_model(X, y)\n",
    "    \n",
    "    # Example patient symptoms\n",
    "    patient_symptoms = {'Fever': 1, 'Cough': 0, 'Fatigue': 1, 'Difficulty Breathing': 0, 'Blood Pressure': 0, 'Cholesterol Level': 1}\n",
    "    predicted_disease = predict_disease(model, label_encoder, patient_symptoms)\n",
    "    print(\"Predicted Disease:\", predicted_disease)\n",
    "    \n"
   ]
  },
  {
   "cell_type": "code",
   "execution_count": 23,
   "id": "e1a4616e-9885-4d86-9467-651bd5c6231c",
   "metadata": {},
   "outputs": [
    {
     "name": "stdout",
     "output_type": "stream",
     "text": [
      "New column 'Total Time Taken' added successfully!\n"
     ]
    }
   ],
   "source": [
    "import pandas as pd\n",
    "import numpy as np\n",
    "\n",
    "# Load the CSV file\n",
    "file_path = \"data.csv\"  # Update with actual path\n",
    "df = pd.read_csv(file_path)\n",
    "\n",
    "# Add a new column with random values between 1 and 100\n",
    "df[\"Total Time Taken\"] = np.random.randint(10, 60, size=len(df))\n",
    "\n",
    "# Save the updated CSV file\n",
    "df.to_csv(file_path, index=False)\n",
    "\n",
    "print(\"New column 'Total Time Taken' added successfully!\")"
   ]
  },
  {
   "cell_type": "code",
   "execution_count": 5,
   "id": "1281ff1a-368a-45d2-b871-a23cfc1a709f",
   "metadata": {},
   "outputs": [
    {
     "name": "stdout",
     "output_type": "stream",
     "text": [
      "Total Time Taken for Migraine: 38\n"
     ]
    }
   ],
   "source": [
    "import pandas as pd\n",
    "\n",
    "# Load the CSV file\n",
    "file_path = \"data.csv\"  # Update with actual path\n",
    "df = pd.read_csv(file_path)\n",
    "\n",
    "# Function to get total time taken based on predicted disease\n",
    "def get_total_time_by_disease(disease_name):\n",
    "    matched_row = df[df[\"Disease\"] == disease_name]  # Find row with the given disease\n",
    "    \n",
    "    if not matched_row.empty:\n",
    "        return matched_row[\"Total Time Taken\"].values[0]  # Return total time taken\n",
    "    else:\n",
    "        return \"Disease not found in dataset\"\n",
    "\n",
    "\n",
    "\n",
    "# Get total time taken for the disease\n",
    "total_time = get_total_time_by_disease(predicted_disease)\n",
    "print(f\"Total Time Taken for {predicted_disease}: {total_time}\")\n"
   ]
  },
  {
   "cell_type": "code",
   "execution_count": null,
   "id": "65e30473-e9df-4781-8d57-faa3d66a4343",
   "metadata": {},
   "outputs": [],
   "source": []
  }
 ],
 "metadata": {
  "kernelspec": {
   "display_name": "Python 3 (ipykernel)",
   "language": "python",
   "name": "python3"
  },
  "language_info": {
   "codemirror_mode": {
    "name": "ipython",
    "version": 3
   },
   "file_extension": ".py",
   "mimetype": "text/x-python",
   "name": "python",
   "nbconvert_exporter": "python",
   "pygments_lexer": "ipython3",
   "version": "3.12.6"
  }
 },
 "nbformat": 4,
 "nbformat_minor": 5
}
