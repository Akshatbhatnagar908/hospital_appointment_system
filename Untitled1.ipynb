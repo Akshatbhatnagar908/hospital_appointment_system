{
 "cells": [
  {
   "cell_type": "code",
   "execution_count": 5,
   "id": "179436d0-cfd1-4db9-8ec7-406b90315994",
   "metadata": {},
   "outputs": [
    {
     "name": "stdout",
     "output_type": "stream",
     "text": [
      "Model Accuracy: 0.00\n",
      "Processing Completed.\n"
     ]
    }
   ],
   "source": [
    "import pandas as pd\n",
    "from sklearn.model_selection import train_test_split\n",
    "from sklearn.preprocessing import LabelEncoder\n",
    "from sklearn.ensemble import RandomForestClassifier\n",
    "from sklearn.metrics import accuracy_score\n",
    "\n",
    "# Load Excel File\n",
    "def load_patient_data(file_path):\n",
    "    df = pd.read_excel(file_path)\n",
    "    return df\n",
    "\n",
    "# Preprocess Data\n",
    "def preprocess_data(df):\n",
    "    df = df.drop(columns=['Name', 'Contact'])  # Remove non-relevant features\n",
    "    \n",
    "    label_enc = LabelEncoder()\n",
    "    df['Gender'] = label_enc.fit_transform(df['Gender'])  # Encode categorical values\n",
    "    df['Disease'] = label_enc.fit_transform(df['Disease'])\n",
    "    \n",
    "    return df, label_enc\n",
    "\n",
    "# Train ML Model\n",
    "def train_model(X, y):\n",
    "    X_train, X_test, y_train, y_test = train_test_split(X, y, test_size=0.2, random_state=42)\n",
    "    model = RandomForestClassifier(n_estimators=100, random_state=42)\n",
    "    model.fit(X_train, y_train)\n",
    "    \n",
    "    y_pred = model.predict(X_test)\n",
    "    accuracy = accuracy_score(y_test, y_pred)\n",
    "    print(f\"Model Accuracy: {accuracy:.2f}\")\n",
    "    \n",
    "    return model\n",
    "\n",
    "# Main Execution\n",
    "file_path = \"patients.xlsx\"\n",
    "data = load_patient_data(file_path)\n",
    "data, label_encoder = preprocess_data(data)\n",
    "\n",
    "X = data.drop(columns=['Disease'])\n",
    "y = data['Disease']\n",
    "\n",
    "ml_model = train_model(X, y)\n",
    "\n",
    "# Save Processed Data\n",
    "data.to_excel(\"processed_patient_data.xlsx\", index=False)\n",
    "print(\"Processing Completed.\")\n"
   ]
  },
  {
   "cell_type": "code",
   "execution_count": null,
   "id": "a27ec382-6803-47ce-a0c6-97b8d03f4f13",
   "metadata": {},
   "outputs": [],
   "source": []
  }
 ],
 "metadata": {
  "kernelspec": {
   "display_name": "Python 3 (ipykernel)",
   "language": "python",
   "name": "python3"
  },
  "language_info": {
   "codemirror_mode": {
    "name": "ipython",
    "version": 3
   },
   "file_extension": ".py",
   "mimetype": "text/x-python",
   "name": "python",
   "nbconvert_exporter": "python",
   "pygments_lexer": "ipython3",
   "version": "3.12.6"
  }
 },
 "nbformat": 4,
 "nbformat_minor": 5
}
