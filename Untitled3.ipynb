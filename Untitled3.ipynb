{
 "cells": [
  {
   "cell_type": "code",
   "execution_count": 2,
   "id": "4036d8dc-56e9-4bee-8d52-4068ac53847e",
   "metadata": {},
   "outputs": [
    {
     "name": "stdout",
     "output_type": "stream",
     "text": [
      "Hello! I am your patient data chatbot. How can I help you today?\n"
     ]
    },
    {
     "name": "stdin",
     "output_type": "stream",
     "text": [
      "You:  hi\n"
     ]
    },
    {
     "ename": "APIRemovedInV1",
     "evalue": "\n\nYou tried to access openai.Completion, but this is no longer supported in openai>=1.0.0 - see the README at https://github.com/openai/openai-python for the API.\n\nYou can run `openai migrate` to automatically upgrade your codebase to use the 1.0.0 interface. \n\nAlternatively, you can pin your installation to the old version, e.g. `pip install openai==0.28`\n\nA detailed migration guide is available here: https://github.com/openai/openai-python/discussions/742\n",
     "output_type": "error",
     "traceback": [
      "\u001b[1;31m---------------------------------------------------------------------------\u001b[0m",
      "\u001b[1;31mAPIRemovedInV1\u001b[0m                            Traceback (most recent call last)",
      "Cell \u001b[1;32mIn[2], line 79\u001b[0m\n\u001b[0;32m     76\u001b[0m         \u001b[38;5;28mprint\u001b[39m(\u001b[38;5;124m\"\u001b[39m\u001b[38;5;124mBot:\u001b[39m\u001b[38;5;124m\"\u001b[39m, bot_response)\n\u001b[0;32m     78\u001b[0m \u001b[38;5;66;03m# Run the chatbot\u001b[39;00m\n\u001b[1;32m---> 79\u001b[0m \u001b[43mchatbot\u001b[49m\u001b[43m(\u001b[49m\u001b[43m)\u001b[49m\n",
      "Cell \u001b[1;32mIn[2], line 75\u001b[0m, in \u001b[0;36mchatbot\u001b[1;34m()\u001b[0m\n\u001b[0;32m     72\u001b[0m context \u001b[38;5;241m=\u001b[39m query_patient_data(user_input)\n\u001b[0;32m     74\u001b[0m \u001b[38;5;66;03m# Now, send that context to the GPT model for a natural language response\u001b[39;00m\n\u001b[1;32m---> 75\u001b[0m bot_response \u001b[38;5;241m=\u001b[39m \u001b[43mchat_with_gpt\u001b[49m\u001b[43m(\u001b[49m\u001b[43muser_input\u001b[49m\u001b[43m,\u001b[49m\u001b[43m \u001b[49m\u001b[43mcontext\u001b[49m\u001b[43m)\u001b[49m\n\u001b[0;32m     76\u001b[0m \u001b[38;5;28mprint\u001b[39m(\u001b[38;5;124m\"\u001b[39m\u001b[38;5;124mBot:\u001b[39m\u001b[38;5;124m\"\u001b[39m, bot_response)\n",
      "Cell \u001b[1;32mIn[2], line 49\u001b[0m, in \u001b[0;36mchat_with_gpt\u001b[1;34m(user_input, context)\u001b[0m\n\u001b[0;32m     46\u001b[0m prompt \u001b[38;5;241m=\u001b[39m \u001b[38;5;124mf\u001b[39m\u001b[38;5;124m\"\u001b[39m\u001b[38;5;124mThe following patient data is available:\u001b[39m\u001b[38;5;130;01m\\n\u001b[39;00m\u001b[38;5;132;01m{\u001b[39;00mcontext\u001b[38;5;132;01m}\u001b[39;00m\u001b[38;5;130;01m\\n\u001b[39;00m\u001b[38;5;130;01m\\n\u001b[39;00m\u001b[38;5;124mUser question: \u001b[39m\u001b[38;5;132;01m{\u001b[39;00muser_input\u001b[38;5;132;01m}\u001b[39;00m\u001b[38;5;130;01m\\n\u001b[39;00m\u001b[38;5;124mAnswer:\u001b[39m\u001b[38;5;124m\"\u001b[39m\n\u001b[0;32m     48\u001b[0m \u001b[38;5;66;03m# Get response from GPT-3 model\u001b[39;00m\n\u001b[1;32m---> 49\u001b[0m response \u001b[38;5;241m=\u001b[39m \u001b[43mopenai\u001b[49m\u001b[38;5;241;43m.\u001b[39;49m\u001b[43mCompletion\u001b[49m\u001b[38;5;241;43m.\u001b[39;49m\u001b[43mcreate\u001b[49m\u001b[43m(\u001b[49m\n\u001b[0;32m     50\u001b[0m \u001b[43m    \u001b[49m\u001b[43mengine\u001b[49m\u001b[38;5;241;43m=\u001b[39;49m\u001b[38;5;124;43m\"\u001b[39;49m\u001b[38;5;124;43mgpt-4\u001b[39;49m\u001b[38;5;124;43m\"\u001b[39;49m\u001b[43m,\u001b[49m\u001b[43m  \u001b[49m\u001b[38;5;66;43;03m# You can use other models like gpt-3.5-turbo\u001b[39;49;00m\n\u001b[0;32m     51\u001b[0m \u001b[43m    \u001b[49m\u001b[43mprompt\u001b[49m\u001b[38;5;241;43m=\u001b[39;49m\u001b[43mprompt\u001b[49m\u001b[43m,\u001b[49m\n\u001b[0;32m     52\u001b[0m \u001b[43m    \u001b[49m\u001b[43mmax_tokens\u001b[49m\u001b[38;5;241;43m=\u001b[39;49m\u001b[38;5;241;43m150\u001b[39;49m\u001b[43m,\u001b[49m\n\u001b[0;32m     53\u001b[0m \u001b[43m    \u001b[49m\u001b[43mn\u001b[49m\u001b[38;5;241;43m=\u001b[39;49m\u001b[38;5;241;43m1\u001b[39;49m\u001b[43m,\u001b[49m\n\u001b[0;32m     54\u001b[0m \u001b[43m    \u001b[49m\u001b[43mstop\u001b[49m\u001b[38;5;241;43m=\u001b[39;49m\u001b[38;5;28;43;01mNone\u001b[39;49;00m\u001b[43m,\u001b[49m\n\u001b[0;32m     55\u001b[0m \u001b[43m    \u001b[49m\u001b[43mtemperature\u001b[49m\u001b[38;5;241;43m=\u001b[39;49m\u001b[38;5;241;43m0.7\u001b[39;49m\u001b[43m,\u001b[49m\n\u001b[0;32m     56\u001b[0m \u001b[43m\u001b[49m\u001b[43m)\u001b[49m\n\u001b[0;32m     58\u001b[0m \u001b[38;5;28;01mreturn\u001b[39;00m response\u001b[38;5;241m.\u001b[39mchoices[\u001b[38;5;241m0\u001b[39m]\u001b[38;5;241m.\u001b[39mtext\u001b[38;5;241m.\u001b[39mstrip()\n",
      "File \u001b[1;32m~\\AppData\\Local\\Programs\\Python\\Python312\\Lib\\site-packages\\openai\\lib\\_old_api.py:39\u001b[0m, in \u001b[0;36mAPIRemovedInV1Proxy.__call__\u001b[1;34m(self, *_args, **_kwargs)\u001b[0m\n\u001b[0;32m     38\u001b[0m \u001b[38;5;28;01mdef\u001b[39;00m \u001b[38;5;21m__call__\u001b[39m(\u001b[38;5;28mself\u001b[39m, \u001b[38;5;241m*\u001b[39m_args: Any, \u001b[38;5;241m*\u001b[39m\u001b[38;5;241m*\u001b[39m_kwargs: Any) \u001b[38;5;241m-\u001b[39m\u001b[38;5;241m>\u001b[39m Any:\n\u001b[1;32m---> 39\u001b[0m     \u001b[38;5;28;01mraise\u001b[39;00m APIRemovedInV1(symbol\u001b[38;5;241m=\u001b[39m\u001b[38;5;28mself\u001b[39m\u001b[38;5;241m.\u001b[39m_symbol)\n",
      "\u001b[1;31mAPIRemovedInV1\u001b[0m: \n\nYou tried to access openai.Completion, but this is no longer supported in openai>=1.0.0 - see the README at https://github.com/openai/openai-python for the API.\n\nYou can run `openai migrate` to automatically upgrade your codebase to use the 1.0.0 interface. \n\nAlternatively, you can pin your installation to the old version, e.g. `pip install openai==0.28`\n\nA detailed migration guide is available here: https://github.com/openai/openai-python/discussions/742\n"
     ]
    }
   ],
   "source": [
    "import openai\n",
    "import pandas as pd\n",
    "import os\n",
    "\n",
    "# Set your OpenAI API Key from environment variable\n",
    "openai.api_key = os.getenv('OPENAI_API_KEY')\n",
    "\n",
    "# Load the patient data from an Excel file\n",
    "def load_patient_data(file_path):\n",
    "    # Read the Excel file into a pandas DataFrame\n",
    "    df = pd.read_excel(file_path)\n",
    "    return df\n",
    "\n",
    "# Example: Get data from 'patients.xlsx'\n",
    "file_path = 'patients.xlsx'\n",
    "data = load_patient_data(file_path)\n",
    "\n",
    "# Function to query patient data based on user input\n",
    "def query_patient_data(user_input):\n",
    "    user_input_lower = user_input.lower()\n",
    "    \n",
    "    # Search by patient name\n",
    "    if \"name\" in user_input_lower:\n",
    "        name = user_input.split(' ')[-1]  # Extract the last word, assuming it’s the name\n",
    "        result = data[data['Name'].str.contains(name, case=False, na=False)]\n",
    "        if not result.empty:\n",
    "            return result\n",
    "        else:\n",
    "            return f\"Sorry, I couldn't find a patient named {name}.\"\n",
    "    \n",
    "    # Search by diagnosis\n",
    "    elif \"diagnosis\" in user_input_lower:\n",
    "        diagnosis = user_input.split(' ')[-1]\n",
    "        result = data[data['Diagnosis'].str.contains(diagnosis, case=False, na=False)]\n",
    "        if not result.empty:\n",
    "            return result\n",
    "        else:\n",
    "            return f\"Sorry, I couldn't find any patients with the diagnosis {diagnosis}.\"\n",
    "    \n",
    "    # General response if no recognized keywords\n",
    "    else:\n",
    "        return \"Sorry, I couldn't understand your query. Please ask about a patient's name or diagnosis.\"\n",
    "\n",
    "# Function to interact with GPT model (using patient data as context)\n",
    "def chat_with_gpt(user_input, context):\n",
    "    prompt = f\"The following patient data is available:\\n{context}\\n\\nUser question: {user_input}\\nAnswer:\"\n",
    "\n",
    "    # Get response from GPT-3 model\n",
    "    response = openai.Completion.create(\n",
    "        engine=\"gpt-4\",  # You can use other models like gpt-3.5-turbo\n",
    "        prompt=prompt,\n",
    "        max_tokens=150,\n",
    "        n=1,\n",
    "        stop=None,\n",
    "        temperature=0.7,\n",
    "    )\n",
    "    \n",
    "    return response.choices[0].text.strip()\n",
    "\n",
    "# Main chatbot loop\n",
    "def chatbot():\n",
    "    print(\"Hello! I am your patient data chatbot. How can I help you today?\")\n",
    "    while True:\n",
    "        user_input = input(\"You: \")\n",
    "        \n",
    "        # If the user wants to stop the chat\n",
    "        if user_input.lower() == \"exit\":\n",
    "            print(\"Goodbye!\")\n",
    "            break\n",
    "\n",
    "        # Query the data based on the user input\n",
    "        context = query_patient_data(user_input)\n",
    "        \n",
    "        # Now, send that context to the GPT model for a natural language response\n",
    "        bot_response = chat_with_gpt(user_input, context)\n",
    "        print(\"Bot:\", bot_response)\n",
    "\n",
    "# Run the chatbot\n",
    "chatbot()\n"
   ]
  },
  {
   "cell_type": "code",
   "execution_count": null,
   "id": "4243bac9-1ec0-4264-b6e5-9cbd7f60fd40",
   "metadata": {},
   "outputs": [],
   "source": []
  }
 ],
 "metadata": {
  "kernelspec": {
   "display_name": "Python 3 (ipykernel)",
   "language": "python",
   "name": "python3"
  },
  "language_info": {
   "codemirror_mode": {
    "name": "ipython",
    "version": 3
   },
   "file_extension": ".py",
   "mimetype": "text/x-python",
   "name": "python",
   "nbconvert_exporter": "python",
   "pygments_lexer": "ipython3",
   "version": "3.12.6"
  }
 },
 "nbformat": 4,
 "nbformat_minor": 5
}
